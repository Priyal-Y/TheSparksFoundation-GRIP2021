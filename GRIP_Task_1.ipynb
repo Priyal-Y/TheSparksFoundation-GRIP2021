{
  "nbformat": 4,
  "nbformat_minor": 0,
  "metadata": {
    "colab": {
      "name": "GRIP Task#1.ipynb",
      "provenance": [],
      "authorship_tag": "ABX9TyNR22OjfQAM6sNJGPpkvI2i"
    },
    "kernelspec": {
      "name": "python3",
      "display_name": "Python 3"
    },
    "language_info": {
      "name": "python"
    }
  },
  "cells": [
    {
      "cell_type": "markdown",
      "metadata": {
        "id": "8NtldcUpPD70"
      },
      "source": [
        "**Author**: Priyal Yadav<br>\n",
        "**Task 1**: Prediction using Supervised ML<br>\n",
        "**Goal:** To predict the percentage of a student based on the no. of study hours.<br>\n",
        "**Description:** A simple linear regression task as it only involves two variables.\n"
      ]
    },
    {
      "cell_type": "code",
      "metadata": {
        "id": "PckELw10P6W1"
      },
      "source": [
        "import numpy as np\n",
        "import pandas as pd\n",
        "import matplotlib.pyplot as plt"
      ],
      "execution_count": 1,
      "outputs": []
    },
    {
      "cell_type": "markdown",
      "metadata": {
        "id": "E34SneLgQUjZ"
      },
      "source": [
        "**Read Data**"
      ]
    },
    {
      "cell_type": "code",
      "metadata": {
        "colab": {
          "base_uri": "https://localhost:8080/",
          "height": 203
        },
        "id": "ZujAICKKQZRm",
        "outputId": "574b5da2-1590-4740-ed94-9bed60b73da3"
      },
      "source": [
        "data = pd.read_csv('http://bit.ly/w-data')\n",
        "data.head()"
      ],
      "execution_count": 3,
      "outputs": [
        {
          "output_type": "execute_result",
          "data": {
            "text/html": [
              "<div>\n",
              "<style scoped>\n",
              "    .dataframe tbody tr th:only-of-type {\n",
              "        vertical-align: middle;\n",
              "    }\n",
              "\n",
              "    .dataframe tbody tr th {\n",
              "        vertical-align: top;\n",
              "    }\n",
              "\n",
              "    .dataframe thead th {\n",
              "        text-align: right;\n",
              "    }\n",
              "</style>\n",
              "<table border=\"1\" class=\"dataframe\">\n",
              "  <thead>\n",
              "    <tr style=\"text-align: right;\">\n",
              "      <th></th>\n",
              "      <th>Hours</th>\n",
              "      <th>Scores</th>\n",
              "    </tr>\n",
              "  </thead>\n",
              "  <tbody>\n",
              "    <tr>\n",
              "      <th>0</th>\n",
              "      <td>2.5</td>\n",
              "      <td>21</td>\n",
              "    </tr>\n",
              "    <tr>\n",
              "      <th>1</th>\n",
              "      <td>5.1</td>\n",
              "      <td>47</td>\n",
              "    </tr>\n",
              "    <tr>\n",
              "      <th>2</th>\n",
              "      <td>3.2</td>\n",
              "      <td>27</td>\n",
              "    </tr>\n",
              "    <tr>\n",
              "      <th>3</th>\n",
              "      <td>8.5</td>\n",
              "      <td>75</td>\n",
              "    </tr>\n",
              "    <tr>\n",
              "      <th>4</th>\n",
              "      <td>3.5</td>\n",
              "      <td>30</td>\n",
              "    </tr>\n",
              "  </tbody>\n",
              "</table>\n",
              "</div>"
            ],
            "text/plain": [
              "   Hours  Scores\n",
              "0    2.5      21\n",
              "1    5.1      47\n",
              "2    3.2      27\n",
              "3    8.5      75\n",
              "4    3.5      30"
            ]
          },
          "metadata": {},
          "execution_count": 3
        }
      ]
    },
    {
      "cell_type": "markdown",
      "metadata": {
        "id": "dc2_9i6KQ6-5"
      },
      "source": [
        "**Data Visualization**\n"
      ]
    },
    {
      "cell_type": "code",
      "metadata": {
        "colab": {
          "base_uri": "https://localhost:8080/",
          "height": 295
        },
        "id": "_tinGIztQ91L",
        "outputId": "73a5fd54-db10-4f62-99dd-087b1b251989"
      },
      "source": [
        "plt.scatter(data['Hours'], data['Scores'])\n",
        "plt.xlabel(\"Number of Hours\")\n",
        "plt.ylabel(\"Scores\")\n",
        "plt.title(\"Hours vs Scores\")\n",
        "plt.show()"
      ],
      "execution_count": 5,
      "outputs": [
        {
          "output_type": "display_data",
          "data": {
            "image/png": "[encoded data removed]",
            "text/plain": [
              "<Figure size 432x288 with 1 Axes>"
            ]
          },
          "metadata": {
            "needs_background": "light"
          }
        }
      ]
    },
    {
      "cell_type": "markdown",
      "metadata": {
        "id": "xNNvmtUQRcai"
      },
      "source": [
        "**Data Preprocessing** \n"
      ]
    },
    {
      "cell_type": "code",
      "metadata": {
        "id": "x7RmfY4CRfLq"
      },
      "source": [
        "X = data.iloc[:, :-1].values  \n",
        "y = data.iloc[:, 1].values"
      ],
      "execution_count": 6,
      "outputs": []
    },
    {
      "cell_type": "markdown",
      "metadata": {
        "id": "HMeag7A2Rsjn"
      },
      "source": [
        "**Model Training : Splitting input data into training and testing sets and training the model.**"
      ]
    },
    {
      "cell_type": "code",
      "metadata": {
        "colab": {
          "base_uri": "https://localhost:8080/"
        },
        "id": "BOEd5GoBRt_e",
        "outputId": "c6254d46-14af-4340-a253-3c37e77e23e8"
      },
      "source": [
        "from sklearn.model_selection import train_test_split\n",
        "X_train, X_test, y_train, y_test = train_test_split(data['Hours'].values.reshape(-1,1), data['Scores'], test_size = 0.2, random_state = 42)\n",
        "X_train.shape, y_train.shape, X_test.shape, y_test.shape"
      ],
      "execution_count": 8,
      "outputs": [
        {
          "output_type": "execute_result",
          "data": {
            "text/plain": [
              "((20, 1), (20,), (5, 1), (5,))"
            ]
          },
          "metadata": {},
          "execution_count": 8
        }
      ]
    },
    {
      "cell_type": "code",
      "metadata": {
        "colab": {
          "base_uri": "https://localhost:8080/"
        },
        "id": "0QPb7UDwSDC5",
        "outputId": "a968d5b7-b200-4c52-baf5-90e93cd0d218"
      },
      "source": [
        "X_train, X_test, y_train, y_test = train_test_split(X, y, test_size=0.2, random_state=0) \n",
        "regressor = LinearRegression()  \n",
        "regressor.fit(X_train.reshape(-1,1), y_train) \n",
        "\n",
        "print(\"Training complete.\")"
      ],
      "execution_count": 10,
      "outputs": [
        {
          "output_type": "stream",
          "name": "stdout",
          "text": [
            "Training complete.\n"
          ]
        }
      ]
    },
    {
      "cell_type": "markdown",
      "metadata": {
        "id": "cemjp8GISW1v"
      },
      "source": [
        "**Plotting the Line of Regression**"
      ]
    },
    {
      "cell_type": "code",
      "metadata": {
        "colab": {
          "base_uri": "https://localhost:8080/",
          "height": 265
        },
        "id": "aXZ5JHg7SZcp",
        "outputId": "e921bf55-589a-4c27-b1d2-87069c31e77f"
      },
      "source": [
        "\n",
        "line = regressor.coef_*X+regressor.intercept_\n",
        "\n",
        "plt.scatter(X, y)\n",
        "plt.plot(X, line,color='yellow');\n",
        "plt.show()"
      ],
      "execution_count": 22,
      "outputs": [
        {
          "output_type": "display_data",
          "data": {
            "image/png": "[encoded data removed]",
            "text/plain": [
              "<Figure size 432x288 with 1 Axes>"
            ]
          },
          "metadata": {
            "needs_background": "light"
          }
        }
      ]
    },
    {
      "cell_type": "code",
      "metadata": {
        "colab": {
          "base_uri": "https://localhost:8080/"
        },
        "id": "5bjDOeyyS95i",
        "outputId": "1b7b9b2e-1687-45fb-ec3b-3057357c2da1"
      },
      "source": [
        "pred = model.predict(X_test)\n",
        "pred"
      ],
      "execution_count": 12,
      "outputs": [
        {
          "output_type": "execute_result",
          "data": {
            "text/plain": [
              "array([17.35000959, 33.80954245, 74.4742707 , 27.03208774, 59.95115347])"
            ]
          },
          "metadata": {},
          "execution_count": 12
        }
      ]
    },
    {
      "cell_type": "markdown",
      "metadata": {
        "id": "ymmLIBlFTBVm"
      },
      "source": [
        "**Comparing Actual and Predicted Values**"
      ]
    },
    {
      "cell_type": "code",
      "metadata": {
        "colab": {
          "base_uri": "https://localhost:8080/",
          "height": 203
        },
        "id": "NpuZBSHCTFUC",
        "outputId": "2b534044-9c63-4d2e-f8d1-2a1b0b67a10c"
      },
      "source": [
        "\n",
        "pred_compare = pd.DataFrame({'Actual Values': y_test, 'Predicted Values':pred})\n",
        "pred_compare"
      ],
      "execution_count": 14,
      "outputs": [
        {
          "output_type": "execute_result",
          "data": {
            "text/html": [
              "<div>\n",
              "<style scoped>\n",
              "    .dataframe tbody tr th:only-of-type {\n",
              "        vertical-align: middle;\n",
              "    }\n",
              "\n",
              "    .dataframe tbody tr th {\n",
              "        vertical-align: top;\n",
              "    }\n",
              "\n",
              "    .dataframe thead th {\n",
              "        text-align: right;\n",
              "    }\n",
              "</style>\n",
              "<table border=\"1\" class=\"dataframe\">\n",
              "  <thead>\n",
              "    <tr style=\"text-align: right;\">\n",
              "      <th></th>\n",
              "      <th>Actual Values</th>\n",
              "      <th>Predicted Values</th>\n",
              "    </tr>\n",
              "  </thead>\n",
              "  <tbody>\n",
              "    <tr>\n",
              "      <th>0</th>\n",
              "      <td>20</td>\n",
              "      <td>17.350010</td>\n",
              "    </tr>\n",
              "    <tr>\n",
              "      <th>1</th>\n",
              "      <td>27</td>\n",
              "      <td>33.809542</td>\n",
              "    </tr>\n",
              "    <tr>\n",
              "      <th>2</th>\n",
              "      <td>69</td>\n",
              "      <td>74.474271</td>\n",
              "    </tr>\n",
              "    <tr>\n",
              "      <th>3</th>\n",
              "      <td>30</td>\n",
              "      <td>27.032088</td>\n",
              "    </tr>\n",
              "    <tr>\n",
              "      <th>4</th>\n",
              "      <td>62</td>\n",
              "      <td>59.951153</td>\n",
              "    </tr>\n",
              "  </tbody>\n",
              "</table>\n",
              "</div>"
            ],
            "text/plain": [
              "   Actual Values  Predicted Values\n",
              "0             20         17.350010\n",
              "1             27         33.809542\n",
              "2             69         74.474271\n",
              "3             30         27.032088\n",
              "4             62         59.951153"
            ]
          },
          "metadata": {},
          "execution_count": 14
        }
      ]
    },
    {
      "cell_type": "markdown",
      "metadata": {
        "id": "UPO-5aj6Tdib"
      },
      "source": [
        "**Model Evaluation**"
      ]
    },
    {
      "cell_type": "code",
      "metadata": {
        "colab": {
          "base_uri": "https://localhost:8080/"
        },
        "id": "vs3bHsV6TsqY",
        "outputId": "d3a87cad-96fe-4d93-a34b-8fd290d41927"
      },
      "source": [
        "from sklearn import metrics\n",
        "print(\"Mean Absolute Error: \", metrics.mean_absolute_error(y_test, pred))\n",
        "print(\"Mean Squared Error: \", metrics.mean_squared_error(y_test, pred))\n",
        "print(\"Root Mean Squared Error: \", metrics.mean_squared_error(y_test, pred)**0.5)\n",
        "print(\"R2 Score: \", metrics.r2_score(y_test, pred))"
      ],
      "execution_count": 16,
      "outputs": [
        {
          "output_type": "stream",
          "name": "stdout",
          "text": [
            "Mean Absolute Error:  3.99011247084385\n",
            "Mean Squared Error:  19.273246503686536\n",
            "Root Mean Squared Error:  4.3901305793434595\n",
            "R2 Score:  0.95135966458791\n"
          ]
        }
      ]
    },
    {
      "cell_type": "markdown",
      "metadata": {
        "id": "qM9JkFZjT7de"
      },
      "source": [
        "**What will be predicted score if a student studies for 9.25 hrs/ day?**"
      ]
    },
    {
      "cell_type": "code",
      "metadata": {
        "colab": {
          "base_uri": "https://localhost:8080/"
        },
        "id": "1x5uI_xoT-sc",
        "outputId": "431b87f1-ae9c-48d5-a0dd-27dbeabbfd20"
      },
      "source": [
        "hours = np.asarray(9.25).reshape(-1,1)\n",
        "print(f\"Predicted score if a student study for 9.25 hrs in a day: {model.predict(hours)[0]} \")\n"
      ],
      "execution_count": 25,
      "outputs": [
        {
          "output_type": "stream",
          "name": "stdout",
          "text": [
            "Predicted score if a student study for 9.25 hrs in a day: 92.38611528261494 \n"
          ]
        }
      ]
    }
  ]
}